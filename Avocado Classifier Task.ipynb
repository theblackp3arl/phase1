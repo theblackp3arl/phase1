{
 "cells": [
  {
   "cell_type": "markdown",
   "id": "5701096d",
   "metadata": {},
   "source": [
    "# Classifier Task"
   ]
  },
  {
   "cell_type": "code",
   "execution_count": 34,
   "id": "f1958ed9",
   "metadata": {},
   "outputs": [],
   "source": [
    "import pandas as pd"
   ]
  },
  {
   "cell_type": "code",
   "execution_count": 35,
   "id": "ae02d7ce",
   "metadata": {},
   "outputs": [],
   "source": [
    "from sklearn.model_selection import train_test_split"
   ]
  },
  {
   "cell_type": "code",
   "execution_count": 36,
   "id": "59fce77b",
   "metadata": {},
   "outputs": [],
   "source": [
    "from sklearn.preprocessing import MinMaxScaler"
   ]
  },
  {
   "cell_type": "code",
   "execution_count": 59,
   "id": "ec4ad757",
   "metadata": {},
   "outputs": [],
   "source": [
    "from sklearn.metrics import classification_report, accuracy_score, confusion_matrix"
   ]
  },
  {
   "cell_type": "code",
   "execution_count": 52,
   "id": "42e23b2e",
   "metadata": {},
   "outputs": [],
   "source": [
    "from sklearn.ensemble import ExtraTreesClassifier,RandomForestClassifier"
   ]
  },
  {
   "cell_type": "code",
   "execution_count": 39,
   "id": "a7eb78d3",
   "metadata": {},
   "outputs": [],
   "source": [
    "av_data= pd.read_csv('avocado.csv')"
   ]
  },
  {
   "cell_type": "code",
   "execution_count": 40,
   "id": "c28c24c0",
   "metadata": {},
   "outputs": [],
   "source": [
    "av_data['Date']= pd.to_datetime( av_data['Date'])"
   ]
  },
  {
   "cell_type": "code",
   "execution_count": 41,
   "id": "60a5d1ea",
   "metadata": {},
   "outputs": [],
   "source": [
    "if 'Unnamed: 0' in av_data.columns: av_data.drop(columns=['Unnamed: 0'], inplace=True)"
   ]
  },
  {
   "cell_type": "code",
   "execution_count": 42,
   "id": "230eae05",
   "metadata": {},
   "outputs": [],
   "source": [
    "av_data_encoded = pd.get_dummies(av_data,columns=['type', 'region'],drop_first=True)"
   ]
  },
  {
   "cell_type": "code",
   "execution_count": 43,
   "id": "e9530be5",
   "metadata": {},
   "outputs": [],
   "source": [
    "x_class = av_data_encoded.drop(columns=[col for col in av_data_encoded.columns if col.startswith ('region_')])\n",
    "y_class = av_data['region']"
   ]
  },
  {
   "cell_type": "code",
   "execution_count": 45,
   "id": "bc5dfe37",
   "metadata": {},
   "outputs": [],
   "source": [
    "x_class = x_class.apply(pd.to_numeric)"
   ]
  },
  {
   "cell_type": "code",
   "execution_count": 46,
   "id": "975b3bb4",
   "metadata": {},
   "outputs": [],
   "source": [
    "x_train_class, x_test_class, y_train_class, y_test_class = train_test_split( x_class, y_class, test_size=0.2, random_state=42)"
   ]
  },
  {
   "cell_type": "code",
   "execution_count": 53,
   "id": "7d256f26",
   "metadata": {},
   "outputs": [],
   "source": [
    "min_max_scaler = MinMaxScaler()\n",
    "x_train_class = min_max_scaler.fit_transform(x_train_class)\n",
    "x_test_class = min_max_scaler.transform(x_test_class)"
   ]
  },
  {
   "cell_type": "code",
   "execution_count": 54,
   "id": "349b5bb3",
   "metadata": {},
   "outputs": [
    {
     "data": {
      "text/html": [
       "<style>#sk-container-id-1 {color: black;}#sk-container-id-1 pre{padding: 0;}#sk-container-id-1 div.sk-toggleable {background-color: white;}#sk-container-id-1 label.sk-toggleable__label {cursor: pointer;display: block;width: 100%;margin-bottom: 0;padding: 0.3em;box-sizing: border-box;text-align: center;}#sk-container-id-1 label.sk-toggleable__label-arrow:before {content: \"▸\";float: left;margin-right: 0.25em;color: #696969;}#sk-container-id-1 label.sk-toggleable__label-arrow:hover:before {color: black;}#sk-container-id-1 div.sk-estimator:hover label.sk-toggleable__label-arrow:before {color: black;}#sk-container-id-1 div.sk-toggleable__content {max-height: 0;max-width: 0;overflow: hidden;text-align: left;background-color: #f0f8ff;}#sk-container-id-1 div.sk-toggleable__content pre {margin: 0.2em;color: black;border-radius: 0.25em;background-color: #f0f8ff;}#sk-container-id-1 input.sk-toggleable__control:checked~div.sk-toggleable__content {max-height: 200px;max-width: 100%;overflow: auto;}#sk-container-id-1 input.sk-toggleable__control:checked~label.sk-toggleable__label-arrow:before {content: \"▾\";}#sk-container-id-1 div.sk-estimator input.sk-toggleable__control:checked~label.sk-toggleable__label {background-color: #d4ebff;}#sk-container-id-1 div.sk-label input.sk-toggleable__control:checked~label.sk-toggleable__label {background-color: #d4ebff;}#sk-container-id-1 input.sk-hidden--visually {border: 0;clip: rect(1px 1px 1px 1px);clip: rect(1px, 1px, 1px, 1px);height: 1px;margin: -1px;overflow: hidden;padding: 0;position: absolute;width: 1px;}#sk-container-id-1 div.sk-estimator {font-family: monospace;background-color: #f0f8ff;border: 1px dotted black;border-radius: 0.25em;box-sizing: border-box;margin-bottom: 0.5em;}#sk-container-id-1 div.sk-estimator:hover {background-color: #d4ebff;}#sk-container-id-1 div.sk-parallel-item::after {content: \"\";width: 100%;border-bottom: 1px solid gray;flex-grow: 1;}#sk-container-id-1 div.sk-label:hover label.sk-toggleable__label {background-color: #d4ebff;}#sk-container-id-1 div.sk-serial::before {content: \"\";position: absolute;border-left: 1px solid gray;box-sizing: border-box;top: 0;bottom: 0;left: 50%;z-index: 0;}#sk-container-id-1 div.sk-serial {display: flex;flex-direction: column;align-items: center;background-color: white;padding-right: 0.2em;padding-left: 0.2em;position: relative;}#sk-container-id-1 div.sk-item {position: relative;z-index: 1;}#sk-container-id-1 div.sk-parallel {display: flex;align-items: stretch;justify-content: center;background-color: white;position: relative;}#sk-container-id-1 div.sk-item::before, #sk-container-id-1 div.sk-parallel-item::before {content: \"\";position: absolute;border-left: 1px solid gray;box-sizing: border-box;top: 0;bottom: 0;left: 50%;z-index: -1;}#sk-container-id-1 div.sk-parallel-item {display: flex;flex-direction: column;z-index: 1;position: relative;background-color: white;}#sk-container-id-1 div.sk-parallel-item:first-child::after {align-self: flex-end;width: 50%;}#sk-container-id-1 div.sk-parallel-item:last-child::after {align-self: flex-start;width: 50%;}#sk-container-id-1 div.sk-parallel-item:only-child::after {width: 0;}#sk-container-id-1 div.sk-dashed-wrapped {border: 1px dashed gray;margin: 0 0.4em 0.5em 0.4em;box-sizing: border-box;padding-bottom: 0.4em;background-color: white;}#sk-container-id-1 div.sk-label label {font-family: monospace;font-weight: bold;display: inline-block;line-height: 1.2em;}#sk-container-id-1 div.sk-label-container {text-align: center;}#sk-container-id-1 div.sk-container {/* jupyter's `normalize.less` sets `[hidden] { display: none; }` but bootstrap.min.css set `[hidden] { display: none !important; }` so we also need the `!important` here to be able to override the default hidden behavior on the sphinx rendered scikit-learn.org. See: https://github.com/scikit-learn/scikit-learn/issues/21755 */display: inline-block !important;position: relative;}#sk-container-id-1 div.sk-text-repr-fallback {display: none;}</style><div id=\"sk-container-id-1\" class=\"sk-top-container\"><div class=\"sk-text-repr-fallback\"><pre>RandomForestClassifier(random_state=42)</pre><b>In a Jupyter environment, please rerun this cell to show the HTML representation or trust the notebook. <br />On GitHub, the HTML representation is unable to render, please try loading this page with nbviewer.org.</b></div><div class=\"sk-container\" hidden><div class=\"sk-item\"><div class=\"sk-estimator sk-toggleable\"><input class=\"sk-toggleable__control sk-hidden--visually\" id=\"sk-estimator-id-1\" type=\"checkbox\" checked><label for=\"sk-estimator-id-1\" class=\"sk-toggleable__label sk-toggleable__label-arrow\">RandomForestClassifier</label><div class=\"sk-toggleable__content\"><pre>RandomForestClassifier(random_state=42)</pre></div></div></div></div></div>"
      ],
      "text/plain": [
       "RandomForestClassifier(random_state=42)"
      ]
     },
     "execution_count": 54,
     "metadata": {},
     "output_type": "execute_result"
    }
   ],
   "source": [
    "rfc = RandomForestClassifier(random_state=42)\n",
    "rfc.fit(x_train_class,y_train_class)"
   ]
  },
  {
   "cell_type": "code",
   "execution_count": 55,
   "id": "099292a4",
   "metadata": {},
   "outputs": [],
   "source": [
    "y_pred_class = rfc.predict(x_test_class)\n",
    "accuracy = accuracy_score(y_test_class,y_pred_class)\n",
    "report = classification_report(y_test_class,y_pred_class)"
   ]
  },
  {
   "cell_type": "code",
   "execution_count": 56,
   "id": "e59ebaf2",
   "metadata": {},
   "outputs": [
    {
     "name": "stdout",
     "output_type": "stream",
     "text": [
      "Classifier: Random Forest with Min-Max Scaling\n",
      "Accuracy: 0.9172602739726028\n",
      " Classification Report:\n",
      "                     precision    recall  f1-score   support\n",
      "\n",
      "             Albany       0.87      0.94      0.90        63\n",
      "            Atlanta       0.86      0.84      0.85        73\n",
      "BaltimoreWashington       0.98      1.00      0.99        61\n",
      "              Boise       0.93      0.89      0.91        72\n",
      "             Boston       0.94      0.96      0.95        67\n",
      "   BuffaloRochester       0.90      0.82      0.86        73\n",
      "         California       1.00      0.98      0.99        62\n",
      "          Charlotte       0.96      0.87      0.91        76\n",
      "            Chicago       0.99      0.97      0.98        72\n",
      "   CincinnatiDayton       0.95      0.91      0.93        65\n",
      "           Columbus       0.90      0.86      0.88        65\n",
      "      DallasFtWorth       0.94      0.97      0.96        68\n",
      "             Denver       0.97      0.94      0.95        65\n",
      "            Detroit       0.85      0.88      0.87        66\n",
      "        GrandRapids       0.89      0.94      0.92        71\n",
      "         GreatLakes       0.99      0.99      0.99        69\n",
      " HarrisburgScranton       0.97      0.94      0.96        71\n",
      "HartfordSpringfield       0.94      0.97      0.96        69\n",
      "            Houston       0.94      0.93      0.93        67\n",
      "       Indianapolis       0.86      0.90      0.88        63\n",
      "       Jacksonville       0.96      0.94      0.95        68\n",
      "           LasVegas       0.79      0.91      0.84        65\n",
      "         LosAngeles       0.97      1.00      0.99        70\n",
      "         Louisville       0.90      0.93      0.91        68\n",
      "  MiamiFtLauderdale       0.78      0.63      0.70        68\n",
      "           Midsouth       0.98      0.97      0.98        62\n",
      "          Nashville       0.79      0.84      0.81        70\n",
      "   NewOrleansMobile       0.91      0.93      0.92        73\n",
      "            NewYork       0.98      0.98      0.98        66\n",
      "          Northeast       0.99      0.99      0.99        75\n",
      " NorthernNewEngland       0.95      0.95      0.95        58\n",
      "            Orlando       0.71      0.75      0.73        69\n",
      "       Philadelphia       0.97      0.92      0.94        73\n",
      "      PhoenixTucson       0.90      0.87      0.88        52\n",
      "         Pittsburgh       0.98      0.94      0.96        63\n",
      "             Plains       0.96      0.99      0.98        80\n",
      "           Portland       0.92      0.89      0.90        74\n",
      "  RaleighGreensboro       0.85      0.90      0.87        61\n",
      "    RichmondNorfolk       0.93      0.97      0.95        69\n",
      "            Roanoke       0.93      0.95      0.94        59\n",
      "         Sacramento       0.96      0.94      0.95        72\n",
      "           SanDiego       0.92      0.92      0.92        79\n",
      "       SanFrancisco       0.96      0.97      0.96        70\n",
      "            Seattle       0.88      0.87      0.87        60\n",
      "      SouthCarolina       0.94      0.91      0.92        67\n",
      "       SouthCentral       0.95      1.00      0.98        60\n",
      "          Southeast       0.97      0.98      0.98        64\n",
      "            Spokane       0.96      0.95      0.95        77\n",
      "            StLouis       0.93      0.82      0.87        67\n",
      "           Syracuse       0.83      0.91      0.87        70\n",
      "              Tampa       0.63      0.65      0.64        72\n",
      "            TotalUS       0.99      1.00      0.99        67\n",
      "               West       1.00      0.98      0.99        65\n",
      "   WestTexNewMexico       0.90      0.90      0.90        59\n",
      "\n",
      "           accuracy                           0.92      3650\n",
      "          macro avg       0.92      0.92      0.92      3650\n",
      "       weighted avg       0.92      0.92      0.92      3650\n",
      "\n"
     ]
    }
   ],
   "source": [
    "print(f'Classifier: Random Forest with Min-Max Scaling')\n",
    "print (f'Accuracy: {accuracy}')\n",
    "print (f' Classification Report:\\n{report}')"
   ]
  }
 ],
 "metadata": {
  "kernelspec": {
   "display_name": "Python 3 (ipykernel)",
   "language": "python",
   "name": "python3"
  },
  "language_info": {
   "codemirror_mode": {
    "name": "ipython",
    "version": 3
   },
   "file_extension": ".py",
   "mimetype": "text/x-python",
   "name": "python",
   "nbconvert_exporter": "python",
   "pygments_lexer": "ipython3",
   "version": "3.11.4"
  }
 },
 "nbformat": 4,
 "nbformat_minor": 5
}
